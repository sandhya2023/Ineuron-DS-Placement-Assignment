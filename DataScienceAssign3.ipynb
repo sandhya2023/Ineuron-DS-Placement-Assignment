{
 "cells": [
  {
   "cell_type": "markdown",
   "id": "fd0cec87-e767-4a6f-9d00-43a34c90dcae",
   "metadata": {},
   "source": [
    "# **ASSIGNMENT**"
   ]
  },
  {
   "cell_type": "markdown",
   "id": "17993d16-8165-4b50-9d75-32da4f45754d",
   "metadata": {},
   "source": [
    "**1. Scenario: A company wants to analyze the sales performance of its products in different regions. They have collected the following data:<br>\n",
    "   Region A: [10, 15, 12, 8, 14]<br>\n",
    "   Region B: [18, 20, 16, 22, 25]<br>\n",
    "   Calculate the mean sales for each region.<br>**\n"
   ]
  },
  {
   "cell_type": "code",
   "execution_count": 1,
   "id": "e29f13ab-7167-4710-8365-4dc66c06277a",
   "metadata": {},
   "outputs": [],
   "source": [
    "import numpy as np"
   ]
  },
  {
   "cell_type": "code",
   "execution_count": 2,
   "id": "ada2fea7-72c9-43fd-bddd-fee90056de55",
   "metadata": {},
   "outputs": [],
   "source": [
    "a=[10, 15, 12, 8, 14]\n",
    "b= [18, 20, 16, 22, 25]"
   ]
  },
  {
   "cell_type": "code",
   "execution_count": 3,
   "id": "d2a409a1-15e6-49b7-94e5-454b0110b481",
   "metadata": {},
   "outputs": [
    {
     "data": {
      "text/plain": [
       "(11.8, 20.2)"
      ]
     },
     "execution_count": 3,
     "metadata": {},
     "output_type": "execute_result"
    }
   ],
   "source": [
    "mean_a=np.mean(a)\n",
    "mean_b=np.mean(b)\n",
    "mean_a,mean_b"
   ]
  },
  {
   "cell_type": "markdown",
   "id": "084fc17f-70e2-47c8-af2d-fff095413c1a",
   "metadata": {},
   "source": [
    "**2. Scenario: A survey is conducted to measure customer satisfaction on a scale of 1 to 5. The data collected is as follows:\n",
    "   [4, 5, 2, 3, 5, 4, 3, 2, 4, 5]\n",
    "   Calculate the mode of the survey responses.**\n"
   ]
  },
  {
   "cell_type": "code",
   "execution_count": 4,
   "id": "5ab6420a-da40-41bb-aad8-a877b614fe6b",
   "metadata": {},
   "outputs": [],
   "source": [
    "import statistics as stats"
   ]
  },
  {
   "cell_type": "code",
   "execution_count": 5,
   "id": "28107b26-64aa-49aa-aaae-717081ab683f",
   "metadata": {},
   "outputs": [
    {
     "data": {
      "text/plain": [
       "4"
      ]
     },
     "execution_count": 5,
     "metadata": {},
     "output_type": "execute_result"
    }
   ],
   "source": [
    "stats.mode([4, 5, 2, 3, 5, 4, 3, 2,4,5])"
   ]
  },
  {
   "cell_type": "markdown",
   "id": "dab97c99-6941-4ae2-8ff1-bfa7038e9337",
   "metadata": {},
   "source": [
    "**3. Scenario: A company wants to compare the salaries of two departments. The salary data for Department A and Department B are as follows:\n",
    "   Department A: [5000, 6000, 5500, 7000]\n",
    "   Department B: [4500, 5500, 5800, 6000, 5200]\n",
    "   Calculate the median salary for each department.**\n"
   ]
  },
  {
   "cell_type": "code",
   "execution_count": 6,
   "id": "923b0d7e-26c3-4d94-9082-0a41fb8bf43f",
   "metadata": {},
   "outputs": [],
   "source": [
    "dept_a=[5000, 6000, 5500, 7000]\n",
    "dept_b=[4500, 5500, 5800, 6000, 5200] \n"
   ]
  },
  {
   "cell_type": "code",
   "execution_count": 7,
   "id": "e8046590-d126-4f43-b2ae-8d979f44f841",
   "metadata": {},
   "outputs": [
    {
     "data": {
      "text/plain": [
       "5750.0"
      ]
     },
     "execution_count": 7,
     "metadata": {},
     "output_type": "execute_result"
    }
   ],
   "source": [
    "stats.median(dept_a)"
   ]
  },
  {
   "cell_type": "code",
   "execution_count": 8,
   "id": "57ce036d-1e43-403a-b65c-d28f036daf0e",
   "metadata": {},
   "outputs": [
    {
     "data": {
      "text/plain": [
       "5500"
      ]
     },
     "execution_count": 8,
     "metadata": {},
     "output_type": "execute_result"
    }
   ],
   "source": [
    "stats.median(dept_b)"
   ]
  },
  {
   "cell_type": "markdown",
   "id": "4d1a11b9-0050-4b93-bc16-7cffa4880601",
   "metadata": {},
   "source": [
    "**4. Scenario: A data analyst wants to determine the variability in the daily stock prices of a company. The data collected is as follows:\n",
    "   [25.5, 24.8, 26.1, 25.3, 24.9]\n",
    "   Calculate the range of the stock prices.**\n"
   ]
  },
  {
   "cell_type": "code",
   "execution_count": 9,
   "id": "e26d66ec-1c11-41a7-9bfa-49db2f3051ea",
   "metadata": {},
   "outputs": [],
   "source": [
    "data= [25.5, 24.8, 26.1, 25.3, 24.9]"
   ]
  },
  {
   "cell_type": "code",
   "execution_count": 10,
   "id": "4a419630-d14f-4c49-bc5f-f12127b013cc",
   "metadata": {},
   "outputs": [],
   "source": [
    "import  numpy as np\n",
    "def calc_range(data):\n",
    "    \n",
    "    return [np.min(data),np.max(data)]"
   ]
  },
  {
   "cell_type": "code",
   "execution_count": 11,
   "id": "ab2232ad-07b5-4726-994d-f7a6df47ed97",
   "metadata": {},
   "outputs": [
    {
     "data": {
      "text/plain": [
       "[24.8, 26.1]"
      ]
     },
     "execution_count": 11,
     "metadata": {},
     "output_type": "execute_result"
    }
   ],
   "source": [
    "calc_range(data)"
   ]
  },
  {
   "cell_type": "markdown",
   "id": "e7dc87ba-25fe-4346-9cd7-c67584f9bb50",
   "metadata": {},
   "source": [
    "**5. Scenario: A study is conducted to compare the performance of two different teaching methods. The test scores of the students in each group are as follows:\n",
    "   Group A: [85, 90, 92, 88, 91]\n",
    "   Group B: [82, 88, 90, 86, 87]\n",
    "   Perform a t-test to determine if there is a significant difference in the mean scores between the two groups.**\n"
   ]
  },
  {
   "cell_type": "code",
   "execution_count": 12,
   "id": "da7a066c-367e-40db-8d0c-89ca7a2fca40",
   "metadata": {},
   "outputs": [],
   "source": [
    "null_hypothesis=\"There is no significant difference in the mean scores between the two groups.\"\n",
    "alternate_hypothesis=\"There is a significant difference in the mean scores between the two groups.\"\n",
    "\n",
    "from scipy import stats\n",
    "def t_test(gp_a,gp_b):\n",
    "    t_stats,p_value=stats.ttest_ind(a,b)\n",
    "    \n",
    "    if(p_value<0.05):\n",
    "        return (\"There is a significant difference in the mean scores between the two groups.\")\n",
    "    else:\n",
    "        return (\"There is no significant difference in the mean scores between the two groups.\")"
   ]
  },
  {
   "cell_type": "code",
   "execution_count": 13,
   "id": "6cb38073-f508-4ebf-8bfd-beece5f927e7",
   "metadata": {},
   "outputs": [
    {
     "data": {
      "text/plain": [
       "'There is a significant difference in the mean scores between the two groups.'"
      ]
     },
     "execution_count": 13,
     "metadata": {},
     "output_type": "execute_result"
    }
   ],
   "source": [
    "t_test(a,b)"
   ]
  },
  {
   "cell_type": "markdown",
   "id": "520601ee-05dc-4d3a-a7bd-1c037b685b9a",
   "metadata": {},
   "source": [
    "\n",
    "**6. Scenario: A company wants to analyze the relationship between advertising expenditure and sales. The data collected is as follows:\n",
    "   Advertising Expenditure (in thousands): [10, 15, 12, 8, 14]\n",
    "   Sales (in thousands): [25, 30, 28, 20, 26]\n",
    "   Calculate the correlation coefficient between advertising expenditure and sales.**\n",
    "\n"
   ]
  },
  {
   "cell_type": "code",
   "execution_count": 14,
   "id": "09041a1b-01ac-43cd-b7c4-04fc4afd5bfc",
   "metadata": {},
   "outputs": [],
   "source": [
    "import statistics as stats\n",
    "advertising=[10, 15, 12, 8, 14] \n",
    "sales=[25, 30, 28, 20, 26]"
   ]
  },
  {
   "cell_type": "code",
   "execution_count": 15,
   "id": "8a730d90-2591-4720-9562-31a6a70082e9",
   "metadata": {},
   "outputs": [
    {
     "data": {
      "text/plain": [
       "0.8757511375750133"
      ]
     },
     "execution_count": 15,
     "metadata": {},
     "output_type": "execute_result"
    }
   ],
   "source": [
    "stats.correlation(advertising,sales)"
   ]
  },
  {
   "cell_type": "markdown",
   "id": "16dcade4-5c0b-47ef-b3aa-22406c11408f",
   "metadata": {},
   "source": [
    "**7. Scenario: A survey is conducted to measure the heights of a group of people. The data collected is as follows:\n",
    "   [160, 170, 165, 155, 175, 180, 170]\n",
    "   Calculate the standard deviation of the heights.**\n"
   ]
  },
  {
   "cell_type": "code",
   "execution_count": 16,
   "id": "e65eeb28-0041-49f6-93d8-6c7cf868ee82",
   "metadata": {},
   "outputs": [],
   "source": [
    "data_survey=[160, 170, 165, 155, 175, 180, 170]\n"
   ]
  },
  {
   "cell_type": "code",
   "execution_count": 17,
   "id": "f1084911-0e5d-4c40-a014-a71afd654203",
   "metadata": {},
   "outputs": [
    {
     "data": {
      "text/plain": [
       "8.591246929842246"
      ]
     },
     "execution_count": 17,
     "metadata": {},
     "output_type": "execute_result"
    }
   ],
   "source": [
    "stats.stdev(data_survey)"
   ]
  },
  {
   "cell_type": "markdown",
   "id": "29a3953c-98bf-4f23-a7d4-2d4703f1280c",
   "metadata": {},
   "source": [
    "**8. Scenario: A company wants to analyze the relationship between employee tenure and job satisfaction. The data collected is as follows:\n",
    "   Employee Tenure (in years): [2, 3, 5, 4, 6, 2, 4]\n",
    "   Job Satisfaction (on a scale of 1 to 10): [7, 8, 6, 9, 5, 7, 6]\n",
    "   Perform a linear regression analysis to predict job satisfaction based on employee tenure.**\n"
   ]
  },
  {
   "cell_type": "code",
   "execution_count": 18,
   "id": "9af31aa1-bd55-4011-a424-2d81904ee757",
   "metadata": {},
   "outputs": [
    {
     "name": "stdout",
     "output_type": "stream",
     "text": [
      "[[7.75      ]\n",
      " [7.22727273]]\n"
     ]
    }
   ],
   "source": [
    "import pandas as pd\n",
    "\n",
    "df=pd.DataFrame({\"Employement_tenure\":[2, 3, 5, 4, 6, 2, 4],\"Job_satisfaction\":[7, 8, 6, 9, 5, 7, 6]})\n",
    "df.head()\n",
    "\n",
    "X=df[[\"Employement_tenure\"]]\n",
    "y=df[[\"Job_satisfaction\"]]\n",
    "\n",
    "from sklearn.model_selection import train_test_split\n",
    "\n",
    "X_train,X_test,y_train,y_test=train_test_split(X,y,test_size=0.20,random_state=42)\n",
    "\n",
    "from sklearn.linear_model import LinearRegression\n",
    "regression=LinearRegression()\n",
    "regression.fit(X_train,y_train)\n",
    "\n",
    "y_pred=regression.predict(X_test)\n",
    "\n",
    "print(y_pred)"
   ]
  },
  {
   "cell_type": "markdown",
   "id": "4e408e79-b646-4088-8968-2c1f8a3ffdf2",
   "metadata": {},
   "source": [
    "\n",
    "**9. Scenario: A study is conducted to compare the effectiveness of two different medications. The recovery times of the patients in each group are as follows:\n",
    "   Medication A: [10, 12, 14, 11, 13]\n",
    "   Medication B: [15, 17, 16, 14, 18]\n",
    "   Perform an analysis of variance (ANOVA) to determine if there is a significant difference in the mean recovery times between the two medications.**\n"
   ]
  },
  {
   "cell_type": "code",
   "execution_count": 19,
   "id": "6e9126b4-5f35-42c9-ac34-52713c70c949",
   "metadata": {},
   "outputs": [],
   "source": [
    "null_hypothesis=\"There is no significant difference in the mean recovery times between the two medications\"\n",
    "alternate_hypothesis=\"There is a significant difference in the mean recovery times between the two medications\"\n",
    "\n",
    "from scipy.stats import f_oneway\n",
    "def one_way_anova(a,b):\n",
    "    stats,p_value=f_oneway(a,b)\n",
    "    \n",
    "    if(p_value<0.05):\n",
    "        return (\"There is a significant difference in the mean recovery times between the two medications\")\n",
    "    else:\n",
    "        return (\"There is no significant difference in the mean recovery times between the two medications\")"
   ]
  },
  {
   "cell_type": "code",
   "execution_count": 20,
   "id": "ad8d6ac0-c6ec-4dc5-9d17-e238597f7715",
   "metadata": {},
   "outputs": [
    {
     "data": {
      "text/plain": [
       "'There is a significant difference in the mean recovery times between the two medications'"
      ]
     },
     "execution_count": 20,
     "metadata": {},
     "output_type": "execute_result"
    }
   ],
   "source": [
    "one_way_anova( [10, 12, 14, 11, 13],[15, 17, 16, 14, 18])"
   ]
  },
  {
   "cell_type": "markdown",
   "id": "2e1d655a-289a-4ba7-aecc-21314248d3bb",
   "metadata": {},
   "source": [
    "**10. Scenario: A company wants to analyze customer feedback ratings on a scale of 1 to 10. The data collected is\n",
    "as follows:\n",
    "    [8, 9, 7, 6, 8, 10, 9, 8, 7, 8]\n",
    "    Calculate the 75th percentile of the feedback ratings.**\n"
   ]
  },
  {
   "cell_type": "code",
   "execution_count": 21,
   "id": "01c654f5-63f2-48b9-baf5-ce48285b0ac7",
   "metadata": {},
   "outputs": [],
   "source": [
    "import numpy as np"
   ]
  },
  {
   "cell_type": "code",
   "execution_count": 22,
   "id": "815e8a43-8b4f-4011-b60c-8f85d132aae2",
   "metadata": {},
   "outputs": [
    {
     "data": {
      "text/plain": [
       "8.75"
      ]
     },
     "execution_count": 22,
     "metadata": {},
     "output_type": "execute_result"
    }
   ],
   "source": [
    "_,_,_,q3,_=np.quantile([8, 9, 7, 6, 8, 10, 9, 8, 7, 8],[0,0.25,0.50,0.75,1])\n",
    "q3"
   ]
  },
  {
   "cell_type": "markdown",
   "id": "b1991e89-5fed-485c-bda8-f59a91cf13b5",
   "metadata": {},
   "source": [
    "**11. Scenario: A quality control department wants to test the weight consistency of a product. The weights of a sample of products are as follows:\n",
    "    [10.2, 9.8, 10.0, 10.5, 10.3, 10.1]\n",
    "    Perform a hypothesis test to determine if the mean weight differs significantly from 10 grams.**\n"
   ]
  },
  {
   "cell_type": "code",
   "execution_count": 23,
   "id": "c6145ae7-c1d9-47b1-bb1f-643b38f60708",
   "metadata": {},
   "outputs": [],
   "source": [
    "null_hypothesis=\"Mean weight does not differs significantly from 10 grams\"\n",
    "alternate_hypothesis=\"Mean weight differs significantly from 10 grams\"\n",
    "\n",
    "from scipy import stats\n",
    "def t_test_new(data):\n",
    "    t_stats,p_value=stats.ttest_1samp(data,popmean=10,alternative=\"two-sided\")\n",
    "    \n",
    "    if(p_value<0.05):\n",
    "        return (\"Mean weight differs significantly from 10 grams\")\n",
    "    else:\n",
    "        return (\"Mean weight does not differs significantly from 10 grams\")"
   ]
  },
  {
   "cell_type": "code",
   "execution_count": 24,
   "id": "71c0dad1-5795-4689-bbc0-cc9a86451fd6",
   "metadata": {},
   "outputs": [
    {
     "data": {
      "text/plain": [
       "'Mean weight does not differs significantly from 10 grams'"
      ]
     },
     "execution_count": 24,
     "metadata": {},
     "output_type": "execute_result"
    }
   ],
   "source": [
    "t_test_new([10.2, 9.8, 10.0, 10.5, 10.3, 10.1])"
   ]
  },
  {
   "cell_type": "markdown",
   "id": "22106d1a-0919-42e8-9989-73f190939096",
   "metadata": {},
   "source": [
    "**12. Scenario: A company wants to analyze the click-through rates of two different website designs. The number of clicks for each design is as follows:\n",
    "    Design A: [100, 120, 110, 90, 95]\n",
    "    Design B: [80, 85, 90, 95, 100]\n",
    "    Perform a chi-square test to determine if there is a significant difference in the click-through rates between the two designs.**\n"
   ]
  },
  {
   "cell_type": "code",
   "execution_count": 25,
   "id": "cf0f5171-1b2f-4df8-9010-32fefc794d58",
   "metadata": {},
   "outputs": [],
   "source": [
    "import numpy as np\n",
    "from scipy.stats import chi2_contingency\n",
    "\n",
    "def calc_chi2(a,b):\n",
    "    chi2_stat, p_value, dof, expected = chi2_contingency([a,b])\n",
    "    \n",
    "    if p_value < 0.05:\n",
    "         return (\"There is a significant difference in the click-through rates between the two designs.\")\n",
    "    else:\n",
    "        return (\"There is no significant difference in the click-through rates between the two designs.\")"
   ]
  },
  {
   "cell_type": "code",
   "execution_count": 26,
   "id": "a83f6f66-4e73-4941-9380-c9eea8b3c5a1",
   "metadata": {},
   "outputs": [
    {
     "data": {
      "text/plain": [
       "'There is no significant difference in the click-through rates between the two designs.'"
      ]
     },
     "execution_count": 26,
     "metadata": {},
     "output_type": "execute_result"
    }
   ],
   "source": [
    "calc_chi2([100, 120, 110, 90, 95],[80, 85, 90, 95, 100])"
   ]
  },
  {
   "cell_type": "markdown",
   "id": "4c11f736-3c14-4eff-8ede-eefcd83d7221",
   "metadata": {},
   "source": [
    "**13. Scenario: A survey is conducted to measure customer satisfaction with a product on a scale of 1 to 10. The data collected is as follows:\n",
    "    [7, 9, 6, 8, 10, 7, 8, 9, 7, 8]\n",
    "    Calculate the 95% confidence interval for the population mean satisfaction score.**\n"
   ]
  },
  {
   "cell_type": "code",
   "execution_count": 27,
   "id": "3b094fe7-c149-449f-bc75-7ef36cb92ca6",
   "metadata": {},
   "outputs": [],
   "source": [
    "import numpy as np\n",
    "\n",
    "def calc_95_CI(data):\n",
    "    mean=np.mean(data)\n",
    "    std=np.std(data)\n",
    "    \n",
    "    z_value=1.96\n",
    "    \n",
    "    lower_bound=mean-z_value*(std/np.sqrt(len(data)))\n",
    "    upper_bound=mean+z_value*(std/np.sqrt(len(data)))\n",
    "    \n",
    "    return [lower_bound,upper_bound]"
   ]
  },
  {
   "cell_type": "code",
   "execution_count": 28,
   "id": "4f94f84d-8a37-49ef-b834-b3de7b9a87c0",
   "metadata": {},
   "outputs": [
    {
     "data": {
      "text/plain": [
       "[7.196035228154136, 8.603964771845865]"
      ]
     },
     "execution_count": 28,
     "metadata": {},
     "output_type": "execute_result"
    }
   ],
   "source": [
    "calc_95_CI([7, 9, 6, 8, 10, 7, 8, 9, 7, 8])"
   ]
  },
  {
   "cell_type": "markdown",
   "id": "d27d33dc-07b3-49e5-81cc-2f04de592c69",
   "metadata": {},
   "source": [
    "\n",
    "**14. Scenario: A company wants to analyze the effect of temperature on product performance. The data collected is as follows:\n",
    "    Temperature (in degrees Celsius): [20, 22, 23, 19, 21]\n",
    "    Performance (on a scale of 1 to 10): [8, 7, 9, 6, 8]\n",
    "    Perform a simple linear regression to predict performance based on temperature.**\n"
   ]
  },
  {
   "cell_type": "code",
   "execution_count": 29,
   "id": "43f13989-c064-4f3b-965e-4d24c0ce88d6",
   "metadata": {},
   "outputs": [
    {
     "name": "stdout",
     "output_type": "stream",
     "text": [
      "[[8.57142857]]\n"
     ]
    }
   ],
   "source": [
    "import pandas as pd\n",
    "import numpy as np\n",
    "import warnings \n",
    "warnings.filterwarnings(\"ignore\")\n",
    "\n",
    "df=pd.DataFrame({ \"Temperature (in degrees Celsius)\": [20, 22, 23, 19, 21] ,\"Performance (on a scale of 1 to 10)\": [8, 7, 9, 6, 8] })\n",
    "\n",
    "X=df[[\"Temperature (in degrees Celsius)\"]]\n",
    "y=df[[\"Performance (on a scale of 1 to 10)\"]]\n",
    "\n",
    "from sklearn.model_selection import train_test_split\n",
    "X_train,X_test,y_train,y_test=train_test_split(X,y,test_size=0.20,random_state=42)\n",
    "\n",
    "from sklearn.preprocessing import StandardScaler\n",
    "scaler=StandardScaler()\n",
    "X_train=scaler.fit_transform(X_train)\n",
    "X_test=scaler.transform(X_test)\n",
    "\n",
    "from sklearn.linear_model import LinearRegression\n",
    "\n",
    "regressor=LinearRegression()\n",
    "\n",
    "regressor.fit(X_train,y_train)\n",
    "\n",
    "y_prediction=np.clip(regressor.predict(X_test), 1, 10)\n",
    "\n",
    "coefficient=regressor.coef_\n",
    "intercept_value=regressor.intercept_\n",
    "\n",
    "print(y_prediction)"
   ]
  },
  {
   "cell_type": "markdown",
   "id": "0d43072c-f82f-4e15-b062-5e21598d577d",
   "metadata": {},
   "source": [
    "**15. Scenario: A study is conducted to compare the preferences of two groups of participants. The preferences are measured on a Likert scale from 1 to 5. The data collected is as follows:\n",
    "    Group A: [4, 3, 5, 2, 4]\n",
    "    Group B: [3, 2, 4, 3, 3]\n",
    "    Perform a Mann-Whitney U test to determine if there is a significant difference in the median preferences between the two groups.**\n"
   ]
  },
  {
   "cell_type": "code",
   "execution_count": 30,
   "id": "b95a4ba7-0b4f-44e8-a790-ae1c8c06e01a",
   "metadata": {},
   "outputs": [],
   "source": [
    "from scipy.stats import mannwhitneyu\n",
    "def calc_mannwhitneyu(gp_a,gp_b):\n",
    "    _,p_value=mannwhitneyu(gp_a,gp_b)\n",
    "    \n",
    "    if(p_value<0.05):\n",
    "        return (\"There is a significant difference in the median preferences between the two groups.\")\n",
    "    else:\n",
    "         return(\"There is no significant difference in the median preferences between the two groups.\")"
   ]
  },
  {
   "cell_type": "code",
   "execution_count": 31,
   "id": "8c4150aa-d9c4-4ee6-84a0-caceb4bcde5c",
   "metadata": {},
   "outputs": [
    {
     "data": {
      "text/plain": [
       "'There is no significant difference in the median preferences between the two groups.'"
      ]
     },
     "execution_count": 31,
     "metadata": {},
     "output_type": "execute_result"
    }
   ],
   "source": [
    "calc_mannwhitneyu([4, 3, 5, 2, 4] , [3, 2, 4, 3, 3])"
   ]
  },
  {
   "cell_type": "markdown",
   "id": "3715553c-314b-47b2-8a7d-e6cc4f726da0",
   "metadata": {},
   "source": [
    "**16. Scenario: A company wants to analyze the distribution of customer ages. The data collected is as follows:\n",
    "    [25, 30, 35, 40, 45, 50, 55, 60, 65, 70]\n",
    "    Calculate the interquartile range (IQR) of the ages.**\n"
   ]
  },
  {
   "cell_type": "code",
   "execution_count": 32,
   "id": "18be0d78-84e9-4533-a63c-fee85419a4a7",
   "metadata": {},
   "outputs": [],
   "source": [
    "import numpy as np\n",
    "def calc_IQR(data):\n",
    "    _,q1,_,q3,_=np.quantile(data,[0,0.25,0.50,0.75,1])\n",
    "    \n",
    "    return q3-q1"
   ]
  },
  {
   "cell_type": "code",
   "execution_count": 33,
   "id": "168ed299-fb61-4ed7-a537-11942f136f60",
   "metadata": {},
   "outputs": [
    {
     "data": {
      "text/plain": [
       "22.5"
      ]
     },
     "execution_count": 33,
     "metadata": {},
     "output_type": "execute_result"
    }
   ],
   "source": [
    "calc_IQR([25, 30, 35, 40, 45, 50, 55, 60, 65, 70])"
   ]
  },
  {
   "cell_type": "markdown",
   "id": "d5b0a331-0f50-429a-93a4-09fc0bcebc92",
   "metadata": {},
   "source": [
    "**17. Scenario: A study is conducted to compare the performance of three different machine learning algorithms. The accuracy scores for each algorithm are as follows:\n",
    "    Algorithm A: [0.85, 0.80, 0.82, 0.87, 0.83]\n",
    "    Algorithm B: [0.78, 0.82, 0.84, 0.80, 0.79]\n",
    "    Algorithm C: [0.90, 0.88, 0.89, 0.86, 0.87]\n",
    "    Perform a Kruskal-Wallis test to determine if there is a significant difference in the median accuracy scores between the algorithms.**\n"
   ]
  },
  {
   "cell_type": "code",
   "execution_count": 34,
   "id": "f235b0f7-4079-4318-b62f-64375f9b892d",
   "metadata": {},
   "outputs": [],
   "source": [
    "from scipy.stats import kruskal\n",
    "def calc_kruskal_test(gp_a,gp_b,gp_c):\n",
    "    stats,p_value=kruskal(gp_a,gp_b,gp_c)\n",
    "    \n",
    "    if(p_value<0.05):\n",
    "         return (\"There is a significant difference in the median accuracy scores between the algorithms.\")\n",
    "    else:\n",
    "        return (\"There is no significant difference in the median accuracy scores between the algorithms.\")"
   ]
  },
  {
   "cell_type": "code",
   "execution_count": 35,
   "id": "aa50183f-5c96-4f2e-b13f-fccce705ca28",
   "metadata": {},
   "outputs": [
    {
     "data": {
      "text/plain": [
       "'There is a significant difference in the median accuracy scores between the algorithms.'"
      ]
     },
     "execution_count": 35,
     "metadata": {},
     "output_type": "execute_result"
    }
   ],
   "source": [
    "calc_kruskal_test( [0.85, 0.80, 0.82, 0.87, 0.83] ,[0.78, 0.82, 0.84, 0.80, 0.79] ,[0.90, 0.88, 0.89, 0.86, 0.87])"
   ]
  },
  {
   "cell_type": "markdown",
   "id": "20fbe0b3-7c5a-444f-acc4-cd23b376513f",
   "metadata": {},
   "source": [
    "**18. Scenario: A company wants to analyze the effect of price on sales. The data collected is as follows:\n",
    "    Price (in dollars): [10, 15, 12, 8, 14]\n",
    "    Sales: [100, 80, 90, 110, 95]\n",
    "    Perform a simple linear regression to predict**\n"
   ]
  },
  {
   "cell_type": "code",
   "execution_count": 36,
   "id": "29538c27-c474-4b30-9e9f-e40ed5089c1f",
   "metadata": {},
   "outputs": [
    {
     "name": "stdout",
     "output_type": "stream",
     "text": [
      "[[87.75]]\n"
     ]
    }
   ],
   "source": [
    "import pandas as pd\n",
    "import warnings \n",
    "warnings.filterwarnings(\"ignore\")\n",
    "\n",
    "df=pd.DataFrame({\"Price (in dollars)\": [10, 15, 12, 8, 14],\"Sales\": [100, 80, 90, 110, 95] })\n",
    "\n",
    "X=df[[\"Price (in dollars)\"]]\n",
    "y=df[[\"Sales\"]]\n",
    "\n",
    "from sklearn.model_selection import train_test_split\n",
    "X_train,X_test,y_train,y_test=train_test_split(X,y,test_size=0.20,random_state=42)\n",
    "\n",
    "from sklearn.linear_model import LinearRegression\n",
    "\n",
    "regressor=LinearRegression()\n",
    "\n",
    "regressor.fit(X_train,y_train)\n",
    "\n",
    "y_prediction=regressor.predict(X_test)\n",
    "\n",
    "coefficient=regressor.coef_\n",
    "intercept_value=regressor.intercept_\n",
    "\n",
    "print(y_prediction)"
   ]
  },
  {
   "cell_type": "markdown",
   "id": "29404bd2-0e45-484a-8bc1-403c0e34f178",
   "metadata": {},
   "source": [
    "**19. Scenario: A survey is conducted to measure the satisfaction levels of customers with a new product. The data collected is as follows:\n",
    "    [7, 8, 9, 6, 8, 7, 9, 7, 8, 7]\n",
    "    Calculate the standard error of the mean satisfaction score.**\n"
   ]
  },
  {
   "cell_type": "code",
   "execution_count": 37,
   "id": "96dff1db-f478-4e6d-9f13-f371a489c0c0",
   "metadata": {},
   "outputs": [],
   "source": [
    "import statistics as stats\n",
    "def std_error(data):\n",
    "    std_dev=stats.stdev(data)\n",
    "    no_of_samples=len(data)\n",
    "    \n",
    "    return std_dev/((no_of_samples)**(1/2))"
   ]
  },
  {
   "cell_type": "code",
   "execution_count": 38,
   "id": "030f8448-f716-4a49-830c-9dee3a8079fa",
   "metadata": {},
   "outputs": [
    {
     "data": {
      "text/plain": [
       "0.30550504633038933"
      ]
     },
     "execution_count": 38,
     "metadata": {},
     "output_type": "execute_result"
    }
   ],
   "source": [
    "std_error([7, 8, 9, 6, 8, 7, 9, 7, 8, 7])"
   ]
  },
  {
   "cell_type": "markdown",
   "id": "b3b1b735-aff5-4deb-87f2-62f9469a9372",
   "metadata": {},
   "source": [
    "\n",
    "**20. Scenario: A company wants to analyze the relationship between advertising expenditure and sales. The data collected is as follows:\n",
    "    Advertising Expenditure (in thousands): [10, 15, 12, 8, 14]\n",
    "    Sales (in thousands): [25, 30, 28, 20, 26]\n",
    "    Perform a multiple regression analysis to predict sales based on advertising expenditure.**\n"
   ]
  },
  {
   "cell_type": "code",
   "execution_count": 39,
   "id": "21d54123-da82-4c07-9acf-6877a2d1b30b",
   "metadata": {},
   "outputs": [
    {
     "data": {
      "text/plain": [
       "array([[28.95]])"
      ]
     },
     "execution_count": 39,
     "metadata": {},
     "output_type": "execute_result"
    }
   ],
   "source": [
    "import pandas as pd\n",
    "import warnings\n",
    "warnings.filterwarnings(\"ignore\")\n",
    "\n",
    "df=pd.DataFrame({\"Advertising Expenditure (in thousands)\":[10,15,12,8,14],\"Sales (in thousands)\": [25, 30, 28, 20, 26]})\n",
    "df.head()\n",
    "\n",
    "X=df[[\"Advertising Expenditure (in thousands)\"]]\n",
    "y=df[[\"Sales (in thousands)\"]]\n",
    "\n",
    "from sklearn.model_selection import train_test_split\n",
    "X_train,X_test,y_train,y_test=train_test_split(X,y,test_size=0.20,random_state=42)\n",
    "\n",
    "\n",
    "from sklearn.linear_model import LinearRegression\n",
    "regression=LinearRegression()\n",
    "regression.fit(X_train,y_train)\n",
    "\n",
    "y_pred=regression.predict(X_test)\n",
    "\n",
    "y_pred"
   ]
  },
  {
   "cell_type": "markdown",
   "id": "7ef3ce30-1f51-4a43-9ace-911910793d3a",
   "metadata": {},
   "source": [
    "---------------------------------------------"
   ]
  },
  {
   "cell_type": "code",
   "execution_count": null,
   "id": "879f2e8a-25bc-4d58-954f-25c582947b07",
   "metadata": {},
   "outputs": [],
   "source": []
  }
 ],
 "metadata": {
  "kernelspec": {
   "display_name": "Python 3 (ipykernel)",
   "language": "python",
   "name": "python3"
  },
  "language_info": {
   "codemirror_mode": {
    "name": "ipython",
    "version": 3
   },
   "file_extension": ".py",
   "mimetype": "text/x-python",
   "name": "python",
   "nbconvert_exporter": "python",
   "pygments_lexer": "ipython3",
   "version": "3.10.8"
  }
 },
 "nbformat": 4,
 "nbformat_minor": 5
}
